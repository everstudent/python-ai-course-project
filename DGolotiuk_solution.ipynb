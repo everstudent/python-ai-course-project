{
  "nbformat": 4,
  "nbformat_minor": 0,
  "metadata": {
    "colab": {
      "provenance": []
    },
    "kernelspec": {
      "name": "python3",
      "display_name": "Python 3"
    },
    "language_info": {
      "name": "python"
    }
  },
  "cells": [
    {
      "cell_type": "markdown",
      "source": [
        "# Загрузка данных и выделение целевой переменной"
      ],
      "metadata": {
        "id": "Pt9S5pOeD6pz"
      }
    },
    {
      "cell_type": "markdown",
      "source": [
        "* **Home Ownership** - домовладение\n",
        "* **Annual Income** - годовой доход\n",
        "* **Years in current job** - количество лет на текущем месте работы\n",
        "* **Tax Liens** - налоговые обременения\n",
        "* **Number of Open Accounts** - количество открытых счетов\n",
        "* **Years of Credit History** - количество лет кредитной истории\n",
        "* **Maximum Open Credit** - наибольший открытый кредит\n",
        "* **Number of Credit Problems** - количество проблем с кредитом\n",
        "* **Months since last delinquent** - количество месяцев с последней просрочки платежа\n",
        "* **Bankruptcies** - банкротства\n",
        "* **Purpose** - цель кредита\n",
        "* **Term** - срок кредита\n",
        "* **Current Loan Amount** - текущая сумма кредита\n",
        "* **Current Credit Balance** - текущий кредитный баланс\n",
        "* **Monthly Debt** - ежемесячный долг\n",
        "* **Credit Score** - кредитный рейтинг\n",
        "* **Credit Default** - факт невыполнения кредитных обязательств (0 - погашен вовремя, 1 - просрочка)"
      ],
      "metadata": {
        "id": "ZO0Po15RHb4-"
      }
    },
    {
      "cell_type": "code",
      "source": [
        "import numpy as np\n",
        "import pandas as pd\n",
        "from scipy.stats import shapiro, probplot, ttest_ind, mannwhitneyu, chi2_contingency\n",
        "import seaborn as sns\n",
        "from matplotlib import pyplot as plt\n",
        "%matplotlib inline\n",
        "\n",
        "df = pd.read_csv('https://raw.githubusercontent.com/everstudent/python-ai-course-project/main/course_project_train.csv')\n",
        "\n",
        "# Определим категориальные признаки сразу\n",
        "cat_features = ['Home Ownership', 'Years in current job', 'Purpose', 'Term']\n",
        "\n",
        "df.head()"
      ],
      "metadata": {
        "colab": {
          "base_uri": "https://localhost:8080/",
          "height": 409
        },
        "id": "ZUBtVEBxD-ni",
        "outputId": "377db0dd-c79b-4723-903f-98c3b2257fc3"
      },
      "execution_count": 111,
      "outputs": [
        {
          "output_type": "execute_result",
          "data": {
            "text/plain": [
              "  Home Ownership  Annual Income Years in current job  Tax Liens  \\\n",
              "0       Own Home       482087.0                  NaN        0.0   \n",
              "1       Own Home      1025487.0            10+ years        0.0   \n",
              "2  Home Mortgage       751412.0              8 years        0.0   \n",
              "3       Own Home       805068.0              6 years        0.0   \n",
              "4           Rent       776264.0              8 years        0.0   \n",
              "\n",
              "   Number of Open Accounts  Years of Credit History  Maximum Open Credit  \\\n",
              "0                     11.0                     26.3             685960.0   \n",
              "1                     15.0                     15.3            1181730.0   \n",
              "2                     11.0                     35.0            1182434.0   \n",
              "3                      8.0                     22.5             147400.0   \n",
              "4                     13.0                     13.6             385836.0   \n",
              "\n",
              "   Number of Credit Problems  Months since last delinquent  Bankruptcies  \\\n",
              "0                        1.0                           NaN           1.0   \n",
              "1                        0.0                           NaN           0.0   \n",
              "2                        0.0                           NaN           0.0   \n",
              "3                        1.0                           NaN           1.0   \n",
              "4                        1.0                           NaN           0.0   \n",
              "\n",
              "              Purpose        Term  Current Loan Amount  \\\n",
              "0  debt consolidation  Short Term           99999999.0   \n",
              "1  debt consolidation   Long Term             264968.0   \n",
              "2  debt consolidation  Short Term           99999999.0   \n",
              "3  debt consolidation  Short Term             121396.0   \n",
              "4  debt consolidation  Short Term             125840.0   \n",
              "\n",
              "   Current Credit Balance  Monthly Debt  Credit Score  Credit Default  \n",
              "0                 47386.0        7914.0         749.0               0  \n",
              "1                394972.0       18373.0         737.0               1  \n",
              "2                308389.0       13651.0         742.0               0  \n",
              "3                 95855.0       11338.0         694.0               0  \n",
              "4                 93309.0        7180.0         719.0               0  "
            ],
            "text/html": [
              "\n",
              "  <div id=\"df-cfe178da-aa67-43e3-aac0-39f0e5a3347c\">\n",
              "    <div class=\"colab-df-container\">\n",
              "      <div>\n",
              "<style scoped>\n",
              "    .dataframe tbody tr th:only-of-type {\n",
              "        vertical-align: middle;\n",
              "    }\n",
              "\n",
              "    .dataframe tbody tr th {\n",
              "        vertical-align: top;\n",
              "    }\n",
              "\n",
              "    .dataframe thead th {\n",
              "        text-align: right;\n",
              "    }\n",
              "</style>\n",
              "<table border=\"1\" class=\"dataframe\">\n",
              "  <thead>\n",
              "    <tr style=\"text-align: right;\">\n",
              "      <th></th>\n",
              "      <th>Home Ownership</th>\n",
              "      <th>Annual Income</th>\n",
              "      <th>Years in current job</th>\n",
              "      <th>Tax Liens</th>\n",
              "      <th>Number of Open Accounts</th>\n",
              "      <th>Years of Credit History</th>\n",
              "      <th>Maximum Open Credit</th>\n",
              "      <th>Number of Credit Problems</th>\n",
              "      <th>Months since last delinquent</th>\n",
              "      <th>Bankruptcies</th>\n",
              "      <th>Purpose</th>\n",
              "      <th>Term</th>\n",
              "      <th>Current Loan Amount</th>\n",
              "      <th>Current Credit Balance</th>\n",
              "      <th>Monthly Debt</th>\n",
              "      <th>Credit Score</th>\n",
              "      <th>Credit Default</th>\n",
              "    </tr>\n",
              "  </thead>\n",
              "  <tbody>\n",
              "    <tr>\n",
              "      <th>0</th>\n",
              "      <td>Own Home</td>\n",
              "      <td>482087.0</td>\n",
              "      <td>NaN</td>\n",
              "      <td>0.0</td>\n",
              "      <td>11.0</td>\n",
              "      <td>26.3</td>\n",
              "      <td>685960.0</td>\n",
              "      <td>1.0</td>\n",
              "      <td>NaN</td>\n",
              "      <td>1.0</td>\n",
              "      <td>debt consolidation</td>\n",
              "      <td>Short Term</td>\n",
              "      <td>99999999.0</td>\n",
              "      <td>47386.0</td>\n",
              "      <td>7914.0</td>\n",
              "      <td>749.0</td>\n",
              "      <td>0</td>\n",
              "    </tr>\n",
              "    <tr>\n",
              "      <th>1</th>\n",
              "      <td>Own Home</td>\n",
              "      <td>1025487.0</td>\n",
              "      <td>10+ years</td>\n",
              "      <td>0.0</td>\n",
              "      <td>15.0</td>\n",
              "      <td>15.3</td>\n",
              "      <td>1181730.0</td>\n",
              "      <td>0.0</td>\n",
              "      <td>NaN</td>\n",
              "      <td>0.0</td>\n",
              "      <td>debt consolidation</td>\n",
              "      <td>Long Term</td>\n",
              "      <td>264968.0</td>\n",
              "      <td>394972.0</td>\n",
              "      <td>18373.0</td>\n",
              "      <td>737.0</td>\n",
              "      <td>1</td>\n",
              "    </tr>\n",
              "    <tr>\n",
              "      <th>2</th>\n",
              "      <td>Home Mortgage</td>\n",
              "      <td>751412.0</td>\n",
              "      <td>8 years</td>\n",
              "      <td>0.0</td>\n",
              "      <td>11.0</td>\n",
              "      <td>35.0</td>\n",
              "      <td>1182434.0</td>\n",
              "      <td>0.0</td>\n",
              "      <td>NaN</td>\n",
              "      <td>0.0</td>\n",
              "      <td>debt consolidation</td>\n",
              "      <td>Short Term</td>\n",
              "      <td>99999999.0</td>\n",
              "      <td>308389.0</td>\n",
              "      <td>13651.0</td>\n",
              "      <td>742.0</td>\n",
              "      <td>0</td>\n",
              "    </tr>\n",
              "    <tr>\n",
              "      <th>3</th>\n",
              "      <td>Own Home</td>\n",
              "      <td>805068.0</td>\n",
              "      <td>6 years</td>\n",
              "      <td>0.0</td>\n",
              "      <td>8.0</td>\n",
              "      <td>22.5</td>\n",
              "      <td>147400.0</td>\n",
              "      <td>1.0</td>\n",
              "      <td>NaN</td>\n",
              "      <td>1.0</td>\n",
              "      <td>debt consolidation</td>\n",
              "      <td>Short Term</td>\n",
              "      <td>121396.0</td>\n",
              "      <td>95855.0</td>\n",
              "      <td>11338.0</td>\n",
              "      <td>694.0</td>\n",
              "      <td>0</td>\n",
              "    </tr>\n",
              "    <tr>\n",
              "      <th>4</th>\n",
              "      <td>Rent</td>\n",
              "      <td>776264.0</td>\n",
              "      <td>8 years</td>\n",
              "      <td>0.0</td>\n",
              "      <td>13.0</td>\n",
              "      <td>13.6</td>\n",
              "      <td>385836.0</td>\n",
              "      <td>1.0</td>\n",
              "      <td>NaN</td>\n",
              "      <td>0.0</td>\n",
              "      <td>debt consolidation</td>\n",
              "      <td>Short Term</td>\n",
              "      <td>125840.0</td>\n",
              "      <td>93309.0</td>\n",
              "      <td>7180.0</td>\n",
              "      <td>719.0</td>\n",
              "      <td>0</td>\n",
              "    </tr>\n",
              "  </tbody>\n",
              "</table>\n",
              "</div>\n",
              "      <button class=\"colab-df-convert\" onclick=\"convertToInteractive('df-cfe178da-aa67-43e3-aac0-39f0e5a3347c')\"\n",
              "              title=\"Convert this dataframe to an interactive table.\"\n",
              "              style=\"display:none;\">\n",
              "        \n",
              "  <svg xmlns=\"http://www.w3.org/2000/svg\" height=\"24px\"viewBox=\"0 0 24 24\"\n",
              "       width=\"24px\">\n",
              "    <path d=\"M0 0h24v24H0V0z\" fill=\"none\"/>\n",
              "    <path d=\"M18.56 5.44l.94 2.06.94-2.06 2.06-.94-2.06-.94-.94-2.06-.94 2.06-2.06.94zm-11 1L8.5 8.5l.94-2.06 2.06-.94-2.06-.94L8.5 2.5l-.94 2.06-2.06.94zm10 10l.94 2.06.94-2.06 2.06-.94-2.06-.94-.94-2.06-.94 2.06-2.06.94z\"/><path d=\"M17.41 7.96l-1.37-1.37c-.4-.4-.92-.59-1.43-.59-.52 0-1.04.2-1.43.59L10.3 9.45l-7.72 7.72c-.78.78-.78 2.05 0 2.83L4 21.41c.39.39.9.59 1.41.59.51 0 1.02-.2 1.41-.59l7.78-7.78 2.81-2.81c.8-.78.8-2.07 0-2.86zM5.41 20L4 18.59l7.72-7.72 1.47 1.35L5.41 20z\"/>\n",
              "  </svg>\n",
              "      </button>\n",
              "      \n",
              "  <style>\n",
              "    .colab-df-container {\n",
              "      display:flex;\n",
              "      flex-wrap:wrap;\n",
              "      gap: 12px;\n",
              "    }\n",
              "\n",
              "    .colab-df-convert {\n",
              "      background-color: #E8F0FE;\n",
              "      border: none;\n",
              "      border-radius: 50%;\n",
              "      cursor: pointer;\n",
              "      display: none;\n",
              "      fill: #1967D2;\n",
              "      height: 32px;\n",
              "      padding: 0 0 0 0;\n",
              "      width: 32px;\n",
              "    }\n",
              "\n",
              "    .colab-df-convert:hover {\n",
              "      background-color: #E2EBFA;\n",
              "      box-shadow: 0px 1px 2px rgba(60, 64, 67, 0.3), 0px 1px 3px 1px rgba(60, 64, 67, 0.15);\n",
              "      fill: #174EA6;\n",
              "    }\n",
              "\n",
              "    [theme=dark] .colab-df-convert {\n",
              "      background-color: #3B4455;\n",
              "      fill: #D2E3FC;\n",
              "    }\n",
              "\n",
              "    [theme=dark] .colab-df-convert:hover {\n",
              "      background-color: #434B5C;\n",
              "      box-shadow: 0px 1px 3px 1px rgba(0, 0, 0, 0.15);\n",
              "      filter: drop-shadow(0px 1px 2px rgba(0, 0, 0, 0.3));\n",
              "      fill: #FFFFFF;\n",
              "    }\n",
              "  </style>\n",
              "\n",
              "      <script>\n",
              "        const buttonEl =\n",
              "          document.querySelector('#df-cfe178da-aa67-43e3-aac0-39f0e5a3347c button.colab-df-convert');\n",
              "        buttonEl.style.display =\n",
              "          google.colab.kernel.accessAllowed ? 'block' : 'none';\n",
              "\n",
              "        async function convertToInteractive(key) {\n",
              "          const element = document.querySelector('#df-cfe178da-aa67-43e3-aac0-39f0e5a3347c');\n",
              "          const dataTable =\n",
              "            await google.colab.kernel.invokeFunction('convertToInteractive',\n",
              "                                                     [key], {});\n",
              "          if (!dataTable) return;\n",
              "\n",
              "          const docLinkHtml = 'Like what you see? Visit the ' +\n",
              "            '<a target=\"_blank\" href=https://colab.research.google.com/notebooks/data_table.ipynb>data table notebook</a>'\n",
              "            + ' to learn more about interactive tables.';\n",
              "          element.innerHTML = '';\n",
              "          dataTable['output_type'] = 'display_data';\n",
              "          await google.colab.output.renderOutput(dataTable, element);\n",
              "          const docLink = document.createElement('div');\n",
              "          docLink.innerHTML = docLinkHtml;\n",
              "          element.appendChild(docLink);\n",
              "        }\n",
              "      </script>\n",
              "    </div>\n",
              "  </div>\n",
              "  "
            ]
          },
          "metadata": {},
          "execution_count": 111
        }
      ]
    },
    {
      "cell_type": "markdown",
      "source": [
        "### Пропуски"
      ],
      "metadata": {
        "id": "_dC8lTqBNyFo"
      }
    },
    {
      "cell_type": "code",
      "source": [
        "# Видно, что у нас есть и пропуски\n",
        "df.info()"
      ],
      "metadata": {
        "colab": {
          "base_uri": "https://localhost:8080/"
        },
        "id": "cgX0WT-LN3Vz",
        "outputId": "00eb4cd4-36ef-49fa-d3c4-c2acbb39d6bf"
      },
      "execution_count": 112,
      "outputs": [
        {
          "output_type": "stream",
          "name": "stdout",
          "text": [
            "<class 'pandas.core.frame.DataFrame'>\n",
            "RangeIndex: 7500 entries, 0 to 7499\n",
            "Data columns (total 17 columns):\n",
            " #   Column                        Non-Null Count  Dtype  \n",
            "---  ------                        --------------  -----  \n",
            " 0   Home Ownership                7500 non-null   object \n",
            " 1   Annual Income                 5943 non-null   float64\n",
            " 2   Years in current job          7129 non-null   object \n",
            " 3   Tax Liens                     7500 non-null   float64\n",
            " 4   Number of Open Accounts       7500 non-null   float64\n",
            " 5   Years of Credit History       7500 non-null   float64\n",
            " 6   Maximum Open Credit           7500 non-null   float64\n",
            " 7   Number of Credit Problems     7500 non-null   float64\n",
            " 8   Months since last delinquent  3419 non-null   float64\n",
            " 9   Bankruptcies                  7486 non-null   float64\n",
            " 10  Purpose                       7500 non-null   object \n",
            " 11  Term                          7500 non-null   object \n",
            " 12  Current Loan Amount           7500 non-null   float64\n",
            " 13  Current Credit Balance        7500 non-null   float64\n",
            " 14  Monthly Debt                  7500 non-null   float64\n",
            " 15  Credit Score                  5943 non-null   float64\n",
            " 16  Credit Default                7500 non-null   int64  \n",
            "dtypes: float64(12), int64(1), object(4)\n",
            "memory usage: 996.2+ KB\n"
          ]
        }
      ]
    },
    {
      "cell_type": "code",
      "source": [
        "# Выделим  признаки с пропусками:\n",
        "na_cols = ['Annual Income', 'Years in current job', 'Months since last delinquent', 'Bankruptcies', 'Credit Score']\n",
        "df[na_cols]"
      ],
      "metadata": {
        "colab": {
          "base_uri": "https://localhost:8080/",
          "height": 485
        },
        "id": "0UPQRBqWOW5M",
        "outputId": "489c6394-02a3-422d-a72e-9a511f66a92f"
      },
      "execution_count": 113,
      "outputs": [
        {
          "output_type": "execute_result",
          "data": {
            "text/plain": [
              "      Annual Income Years in current job  Months since last delinquent  \\\n",
              "0          482087.0                  NaN                           NaN   \n",
              "1         1025487.0            10+ years                           NaN   \n",
              "2          751412.0              8 years                           NaN   \n",
              "3          805068.0              6 years                           NaN   \n",
              "4          776264.0              8 years                           NaN   \n",
              "...             ...                  ...                           ...   \n",
              "7495       402192.0             < 1 year                           NaN   \n",
              "7496      1533984.0               1 year                          43.0   \n",
              "7497      1878910.0              6 years                           NaN   \n",
              "7498            NaN                  NaN                           NaN   \n",
              "7499            NaN              4 years                           NaN   \n",
              "\n",
              "      Bankruptcies  Credit Score  \n",
              "0              1.0         749.0  \n",
              "1              0.0         737.0  \n",
              "2              0.0         742.0  \n",
              "3              1.0         694.0  \n",
              "4              0.0         719.0  \n",
              "...            ...           ...  \n",
              "7495           0.0         697.0  \n",
              "7496           0.0        7410.0  \n",
              "7497           0.0         748.0  \n",
              "7498           0.0           NaN  \n",
              "7499           0.0           NaN  \n",
              "\n",
              "[7500 rows x 5 columns]"
            ],
            "text/html": [
              "\n",
              "  <div id=\"df-d9ce0b1f-d17f-4a0c-a192-eb9561f859c7\">\n",
              "    <div class=\"colab-df-container\">\n",
              "      <div>\n",
              "<style scoped>\n",
              "    .dataframe tbody tr th:only-of-type {\n",
              "        vertical-align: middle;\n",
              "    }\n",
              "\n",
              "    .dataframe tbody tr th {\n",
              "        vertical-align: top;\n",
              "    }\n",
              "\n",
              "    .dataframe thead th {\n",
              "        text-align: right;\n",
              "    }\n",
              "</style>\n",
              "<table border=\"1\" class=\"dataframe\">\n",
              "  <thead>\n",
              "    <tr style=\"text-align: right;\">\n",
              "      <th></th>\n",
              "      <th>Annual Income</th>\n",
              "      <th>Years in current job</th>\n",
              "      <th>Months since last delinquent</th>\n",
              "      <th>Bankruptcies</th>\n",
              "      <th>Credit Score</th>\n",
              "    </tr>\n",
              "  </thead>\n",
              "  <tbody>\n",
              "    <tr>\n",
              "      <th>0</th>\n",
              "      <td>482087.0</td>\n",
              "      <td>NaN</td>\n",
              "      <td>NaN</td>\n",
              "      <td>1.0</td>\n",
              "      <td>749.0</td>\n",
              "    </tr>\n",
              "    <tr>\n",
              "      <th>1</th>\n",
              "      <td>1025487.0</td>\n",
              "      <td>10+ years</td>\n",
              "      <td>NaN</td>\n",
              "      <td>0.0</td>\n",
              "      <td>737.0</td>\n",
              "    </tr>\n",
              "    <tr>\n",
              "      <th>2</th>\n",
              "      <td>751412.0</td>\n",
              "      <td>8 years</td>\n",
              "      <td>NaN</td>\n",
              "      <td>0.0</td>\n",
              "      <td>742.0</td>\n",
              "    </tr>\n",
              "    <tr>\n",
              "      <th>3</th>\n",
              "      <td>805068.0</td>\n",
              "      <td>6 years</td>\n",
              "      <td>NaN</td>\n",
              "      <td>1.0</td>\n",
              "      <td>694.0</td>\n",
              "    </tr>\n",
              "    <tr>\n",
              "      <th>4</th>\n",
              "      <td>776264.0</td>\n",
              "      <td>8 years</td>\n",
              "      <td>NaN</td>\n",
              "      <td>0.0</td>\n",
              "      <td>719.0</td>\n",
              "    </tr>\n",
              "    <tr>\n",
              "      <th>...</th>\n",
              "      <td>...</td>\n",
              "      <td>...</td>\n",
              "      <td>...</td>\n",
              "      <td>...</td>\n",
              "      <td>...</td>\n",
              "    </tr>\n",
              "    <tr>\n",
              "      <th>7495</th>\n",
              "      <td>402192.0</td>\n",
              "      <td>&lt; 1 year</td>\n",
              "      <td>NaN</td>\n",
              "      <td>0.0</td>\n",
              "      <td>697.0</td>\n",
              "    </tr>\n",
              "    <tr>\n",
              "      <th>7496</th>\n",
              "      <td>1533984.0</td>\n",
              "      <td>1 year</td>\n",
              "      <td>43.0</td>\n",
              "      <td>0.0</td>\n",
              "      <td>7410.0</td>\n",
              "    </tr>\n",
              "    <tr>\n",
              "      <th>7497</th>\n",
              "      <td>1878910.0</td>\n",
              "      <td>6 years</td>\n",
              "      <td>NaN</td>\n",
              "      <td>0.0</td>\n",
              "      <td>748.0</td>\n",
              "    </tr>\n",
              "    <tr>\n",
              "      <th>7498</th>\n",
              "      <td>NaN</td>\n",
              "      <td>NaN</td>\n",
              "      <td>NaN</td>\n",
              "      <td>0.0</td>\n",
              "      <td>NaN</td>\n",
              "    </tr>\n",
              "    <tr>\n",
              "      <th>7499</th>\n",
              "      <td>NaN</td>\n",
              "      <td>4 years</td>\n",
              "      <td>NaN</td>\n",
              "      <td>0.0</td>\n",
              "      <td>NaN</td>\n",
              "    </tr>\n",
              "  </tbody>\n",
              "</table>\n",
              "<p>7500 rows × 5 columns</p>\n",
              "</div>\n",
              "      <button class=\"colab-df-convert\" onclick=\"convertToInteractive('df-d9ce0b1f-d17f-4a0c-a192-eb9561f859c7')\"\n",
              "              title=\"Convert this dataframe to an interactive table.\"\n",
              "              style=\"display:none;\">\n",
              "        \n",
              "  <svg xmlns=\"http://www.w3.org/2000/svg\" height=\"24px\"viewBox=\"0 0 24 24\"\n",
              "       width=\"24px\">\n",
              "    <path d=\"M0 0h24v24H0V0z\" fill=\"none\"/>\n",
              "    <path d=\"M18.56 5.44l.94 2.06.94-2.06 2.06-.94-2.06-.94-.94-2.06-.94 2.06-2.06.94zm-11 1L8.5 8.5l.94-2.06 2.06-.94-2.06-.94L8.5 2.5l-.94 2.06-2.06.94zm10 10l.94 2.06.94-2.06 2.06-.94-2.06-.94-.94-2.06-.94 2.06-2.06.94z\"/><path d=\"M17.41 7.96l-1.37-1.37c-.4-.4-.92-.59-1.43-.59-.52 0-1.04.2-1.43.59L10.3 9.45l-7.72 7.72c-.78.78-.78 2.05 0 2.83L4 21.41c.39.39.9.59 1.41.59.51 0 1.02-.2 1.41-.59l7.78-7.78 2.81-2.81c.8-.78.8-2.07 0-2.86zM5.41 20L4 18.59l7.72-7.72 1.47 1.35L5.41 20z\"/>\n",
              "  </svg>\n",
              "      </button>\n",
              "      \n",
              "  <style>\n",
              "    .colab-df-container {\n",
              "      display:flex;\n",
              "      flex-wrap:wrap;\n",
              "      gap: 12px;\n",
              "    }\n",
              "\n",
              "    .colab-df-convert {\n",
              "      background-color: #E8F0FE;\n",
              "      border: none;\n",
              "      border-radius: 50%;\n",
              "      cursor: pointer;\n",
              "      display: none;\n",
              "      fill: #1967D2;\n",
              "      height: 32px;\n",
              "      padding: 0 0 0 0;\n",
              "      width: 32px;\n",
              "    }\n",
              "\n",
              "    .colab-df-convert:hover {\n",
              "      background-color: #E2EBFA;\n",
              "      box-shadow: 0px 1px 2px rgba(60, 64, 67, 0.3), 0px 1px 3px 1px rgba(60, 64, 67, 0.15);\n",
              "      fill: #174EA6;\n",
              "    }\n",
              "\n",
              "    [theme=dark] .colab-df-convert {\n",
              "      background-color: #3B4455;\n",
              "      fill: #D2E3FC;\n",
              "    }\n",
              "\n",
              "    [theme=dark] .colab-df-convert:hover {\n",
              "      background-color: #434B5C;\n",
              "      box-shadow: 0px 1px 3px 1px rgba(0, 0, 0, 0.15);\n",
              "      filter: drop-shadow(0px 1px 2px rgba(0, 0, 0, 0.3));\n",
              "      fill: #FFFFFF;\n",
              "    }\n",
              "  </style>\n",
              "\n",
              "      <script>\n",
              "        const buttonEl =\n",
              "          document.querySelector('#df-d9ce0b1f-d17f-4a0c-a192-eb9561f859c7 button.colab-df-convert');\n",
              "        buttonEl.style.display =\n",
              "          google.colab.kernel.accessAllowed ? 'block' : 'none';\n",
              "\n",
              "        async function convertToInteractive(key) {\n",
              "          const element = document.querySelector('#df-d9ce0b1f-d17f-4a0c-a192-eb9561f859c7');\n",
              "          const dataTable =\n",
              "            await google.colab.kernel.invokeFunction('convertToInteractive',\n",
              "                                                     [key], {});\n",
              "          if (!dataTable) return;\n",
              "\n",
              "          const docLinkHtml = 'Like what you see? Visit the ' +\n",
              "            '<a target=\"_blank\" href=https://colab.research.google.com/notebooks/data_table.ipynb>data table notebook</a>'\n",
              "            + ' to learn more about interactive tables.';\n",
              "          element.innerHTML = '';\n",
              "          dataTable['output_type'] = 'display_data';\n",
              "          await google.colab.output.renderOutput(dataTable, element);\n",
              "          const docLink = document.createElement('div');\n",
              "          docLink.innerHTML = docLinkHtml;\n",
              "          element.appendChild(docLink);\n",
              "        }\n",
              "      </script>\n",
              "    </div>\n",
              "  </div>\n",
              "  "
            ]
          },
          "metadata": {},
          "execution_count": 113
        }
      ]
    },
    {
      "cell_type": "code",
      "source": [
        "# Months since last delinquent - особый признак,\n",
        "# т.к. для части людей его значение не имеет смысла (отсутствует просрочка)\n",
        "print('Количество клиентов без просрочек', df['Months since last delinquent'].isna().sum())\n",
        "\n",
        "# Составим на его основе новый признак - была ли просрочка или нет\n",
        "df['Deliquent happened'] = df['Months since last delinquent'].isna().astype('int')\n",
        "# Старый удалим\n",
        "df.drop('Months since last delinquent', inplace = True, axis=1)\n",
        "\n",
        "# Annual Income, Credit Score - заполним медианой\n",
        "for f in ['Credit Score', 'Annual Income']:\n",
        "  df.loc[df[f].isna(), f] = df[f].median()\n",
        "\n",
        "# Остальные фичи заполним модой (категории или бинарные)\n",
        "for f in ['Bankruptcies', 'Years in current job']:\n",
        "  df.loc[df[f].isna(), f] = df[f].mode()[0]\n",
        "\n",
        "df.info()"
      ],
      "metadata": {
        "colab": {
          "base_uri": "https://localhost:8080/"
        },
        "id": "5UuLDor4O1nu",
        "outputId": "8937958f-d105-4e3e-915c-9a48670a1a66"
      },
      "execution_count": 114,
      "outputs": [
        {
          "output_type": "stream",
          "name": "stdout",
          "text": [
            "Количество клиентов без просрочек 4081\n",
            "<class 'pandas.core.frame.DataFrame'>\n",
            "RangeIndex: 7500 entries, 0 to 7499\n",
            "Data columns (total 17 columns):\n",
            " #   Column                     Non-Null Count  Dtype  \n",
            "---  ------                     --------------  -----  \n",
            " 0   Home Ownership             7500 non-null   object \n",
            " 1   Annual Income              7500 non-null   float64\n",
            " 2   Years in current job       7500 non-null   object \n",
            " 3   Tax Liens                  7500 non-null   float64\n",
            " 4   Number of Open Accounts    7500 non-null   float64\n",
            " 5   Years of Credit History    7500 non-null   float64\n",
            " 6   Maximum Open Credit        7500 non-null   float64\n",
            " 7   Number of Credit Problems  7500 non-null   float64\n",
            " 8   Bankruptcies               7500 non-null   float64\n",
            " 9   Purpose                    7500 non-null   object \n",
            " 10  Term                       7500 non-null   object \n",
            " 11  Current Loan Amount        7500 non-null   float64\n",
            " 12  Current Credit Balance     7500 non-null   float64\n",
            " 13  Monthly Debt               7500 non-null   float64\n",
            " 14  Credit Score               7500 non-null   float64\n",
            " 15  Credit Default             7500 non-null   int64  \n",
            " 16  Deliquent happened         7500 non-null   int64  \n",
            "dtypes: float64(11), int64(2), object(4)\n",
            "memory usage: 996.2+ KB\n"
          ]
        }
      ]
    },
    {
      "cell_type": "markdown",
      "source": [
        "### Выбросы"
      ],
      "metadata": {
        "id": "uH5bp1RGUyxV"
      }
    },
    {
      "cell_type": "code",
      "source": [
        "df.describe()"
      ],
      "metadata": {
        "colab": {
          "base_uri": "https://localhost:8080/",
          "height": 399
        },
        "id": "xa1ej1eiU0cT",
        "outputId": "e41d9e2e-63b8-49f8-97f7-0c7c4255d3b3"
      },
      "execution_count": 115,
      "outputs": [
        {
          "output_type": "execute_result",
          "data": {
            "text/plain": [
              "       Annual Income    Tax Liens  Number of Open Accounts  \\\n",
              "count   7.500000e+03  7500.000000              7500.000000   \n",
              "mean    1.325286e+06     0.030133                11.130933   \n",
              "std     7.567551e+05     0.271604                 4.908924   \n",
              "min     1.645970e+05     0.000000                 2.000000   \n",
              "25%     9.311330e+05     0.000000                 8.000000   \n",
              "50%     1.168386e+06     0.000000                10.000000   \n",
              "75%     1.499974e+06     0.000000                14.000000   \n",
              "max     1.014934e+07     7.000000                43.000000   \n",
              "\n",
              "       Years of Credit History  Maximum Open Credit  \\\n",
              "count              7500.000000         7.500000e+03   \n",
              "mean                 18.317467         9.451537e+05   \n",
              "std                   7.041946         1.602622e+07   \n",
              "min                   4.000000         0.000000e+00   \n",
              "25%                  13.500000         2.792295e+05   \n",
              "50%                  17.000000         4.781590e+05   \n",
              "75%                  21.800000         7.935015e+05   \n",
              "max                  57.700000         1.304726e+09   \n",
              "\n",
              "       Number of Credit Problems  Bankruptcies  Current Loan Amount  \\\n",
              "count                7500.000000   7500.000000         7.500000e+03   \n",
              "mean                    0.170000      0.116933         1.187318e+07   \n",
              "std                     0.498598      0.346904         3.192612e+07   \n",
              "min                     0.000000      0.000000         1.124200e+04   \n",
              "25%                     0.000000      0.000000         1.801690e+05   \n",
              "50%                     0.000000      0.000000         3.095730e+05   \n",
              "75%                     0.000000      0.000000         5.198820e+05   \n",
              "max                     7.000000      4.000000         1.000000e+08   \n",
              "\n",
              "       Current Credit Balance   Monthly Debt  Credit Score  Credit Default  \\\n",
              "count            7.500000e+03    7500.000000   7500.000000     7500.000000   \n",
              "mean             2.898332e+05   18314.454133   1063.877333        0.281733   \n",
              "std              3.178714e+05   11926.764673   1438.335832        0.449874   \n",
              "min              0.000000e+00       0.000000    585.000000        0.000000   \n",
              "25%              1.142565e+05   10067.500000    718.000000        0.000000   \n",
              "50%              2.093230e+05   16076.500000    731.000000        0.000000   \n",
              "75%              3.604062e+05   23818.000000    740.000000        1.000000   \n",
              "max              6.506797e+06  136679.000000   7510.000000        1.000000   \n",
              "\n",
              "       Deliquent happened  \n",
              "count         7500.000000  \n",
              "mean             0.544133  \n",
              "std              0.498082  \n",
              "min              0.000000  \n",
              "25%              0.000000  \n",
              "50%              1.000000  \n",
              "75%              1.000000  \n",
              "max              1.000000  "
            ],
            "text/html": [
              "\n",
              "  <div id=\"df-1f809033-c148-4c19-bd2e-bedeb47efb9d\">\n",
              "    <div class=\"colab-df-container\">\n",
              "      <div>\n",
              "<style scoped>\n",
              "    .dataframe tbody tr th:only-of-type {\n",
              "        vertical-align: middle;\n",
              "    }\n",
              "\n",
              "    .dataframe tbody tr th {\n",
              "        vertical-align: top;\n",
              "    }\n",
              "\n",
              "    .dataframe thead th {\n",
              "        text-align: right;\n",
              "    }\n",
              "</style>\n",
              "<table border=\"1\" class=\"dataframe\">\n",
              "  <thead>\n",
              "    <tr style=\"text-align: right;\">\n",
              "      <th></th>\n",
              "      <th>Annual Income</th>\n",
              "      <th>Tax Liens</th>\n",
              "      <th>Number of Open Accounts</th>\n",
              "      <th>Years of Credit History</th>\n",
              "      <th>Maximum Open Credit</th>\n",
              "      <th>Number of Credit Problems</th>\n",
              "      <th>Bankruptcies</th>\n",
              "      <th>Current Loan Amount</th>\n",
              "      <th>Current Credit Balance</th>\n",
              "      <th>Monthly Debt</th>\n",
              "      <th>Credit Score</th>\n",
              "      <th>Credit Default</th>\n",
              "      <th>Deliquent happened</th>\n",
              "    </tr>\n",
              "  </thead>\n",
              "  <tbody>\n",
              "    <tr>\n",
              "      <th>count</th>\n",
              "      <td>7.500000e+03</td>\n",
              "      <td>7500.000000</td>\n",
              "      <td>7500.000000</td>\n",
              "      <td>7500.000000</td>\n",
              "      <td>7.500000e+03</td>\n",
              "      <td>7500.000000</td>\n",
              "      <td>7500.000000</td>\n",
              "      <td>7.500000e+03</td>\n",
              "      <td>7.500000e+03</td>\n",
              "      <td>7500.000000</td>\n",
              "      <td>7500.000000</td>\n",
              "      <td>7500.000000</td>\n",
              "      <td>7500.000000</td>\n",
              "    </tr>\n",
              "    <tr>\n",
              "      <th>mean</th>\n",
              "      <td>1.325286e+06</td>\n",
              "      <td>0.030133</td>\n",
              "      <td>11.130933</td>\n",
              "      <td>18.317467</td>\n",
              "      <td>9.451537e+05</td>\n",
              "      <td>0.170000</td>\n",
              "      <td>0.116933</td>\n",
              "      <td>1.187318e+07</td>\n",
              "      <td>2.898332e+05</td>\n",
              "      <td>18314.454133</td>\n",
              "      <td>1063.877333</td>\n",
              "      <td>0.281733</td>\n",
              "      <td>0.544133</td>\n",
              "    </tr>\n",
              "    <tr>\n",
              "      <th>std</th>\n",
              "      <td>7.567551e+05</td>\n",
              "      <td>0.271604</td>\n",
              "      <td>4.908924</td>\n",
              "      <td>7.041946</td>\n",
              "      <td>1.602622e+07</td>\n",
              "      <td>0.498598</td>\n",
              "      <td>0.346904</td>\n",
              "      <td>3.192612e+07</td>\n",
              "      <td>3.178714e+05</td>\n",
              "      <td>11926.764673</td>\n",
              "      <td>1438.335832</td>\n",
              "      <td>0.449874</td>\n",
              "      <td>0.498082</td>\n",
              "    </tr>\n",
              "    <tr>\n",
              "      <th>min</th>\n",
              "      <td>1.645970e+05</td>\n",
              "      <td>0.000000</td>\n",
              "      <td>2.000000</td>\n",
              "      <td>4.000000</td>\n",
              "      <td>0.000000e+00</td>\n",
              "      <td>0.000000</td>\n",
              "      <td>0.000000</td>\n",
              "      <td>1.124200e+04</td>\n",
              "      <td>0.000000e+00</td>\n",
              "      <td>0.000000</td>\n",
              "      <td>585.000000</td>\n",
              "      <td>0.000000</td>\n",
              "      <td>0.000000</td>\n",
              "    </tr>\n",
              "    <tr>\n",
              "      <th>25%</th>\n",
              "      <td>9.311330e+05</td>\n",
              "      <td>0.000000</td>\n",
              "      <td>8.000000</td>\n",
              "      <td>13.500000</td>\n",
              "      <td>2.792295e+05</td>\n",
              "      <td>0.000000</td>\n",
              "      <td>0.000000</td>\n",
              "      <td>1.801690e+05</td>\n",
              "      <td>1.142565e+05</td>\n",
              "      <td>10067.500000</td>\n",
              "      <td>718.000000</td>\n",
              "      <td>0.000000</td>\n",
              "      <td>0.000000</td>\n",
              "    </tr>\n",
              "    <tr>\n",
              "      <th>50%</th>\n",
              "      <td>1.168386e+06</td>\n",
              "      <td>0.000000</td>\n",
              "      <td>10.000000</td>\n",
              "      <td>17.000000</td>\n",
              "      <td>4.781590e+05</td>\n",
              "      <td>0.000000</td>\n",
              "      <td>0.000000</td>\n",
              "      <td>3.095730e+05</td>\n",
              "      <td>2.093230e+05</td>\n",
              "      <td>16076.500000</td>\n",
              "      <td>731.000000</td>\n",
              "      <td>0.000000</td>\n",
              "      <td>1.000000</td>\n",
              "    </tr>\n",
              "    <tr>\n",
              "      <th>75%</th>\n",
              "      <td>1.499974e+06</td>\n",
              "      <td>0.000000</td>\n",
              "      <td>14.000000</td>\n",
              "      <td>21.800000</td>\n",
              "      <td>7.935015e+05</td>\n",
              "      <td>0.000000</td>\n",
              "      <td>0.000000</td>\n",
              "      <td>5.198820e+05</td>\n",
              "      <td>3.604062e+05</td>\n",
              "      <td>23818.000000</td>\n",
              "      <td>740.000000</td>\n",
              "      <td>1.000000</td>\n",
              "      <td>1.000000</td>\n",
              "    </tr>\n",
              "    <tr>\n",
              "      <th>max</th>\n",
              "      <td>1.014934e+07</td>\n",
              "      <td>7.000000</td>\n",
              "      <td>43.000000</td>\n",
              "      <td>57.700000</td>\n",
              "      <td>1.304726e+09</td>\n",
              "      <td>7.000000</td>\n",
              "      <td>4.000000</td>\n",
              "      <td>1.000000e+08</td>\n",
              "      <td>6.506797e+06</td>\n",
              "      <td>136679.000000</td>\n",
              "      <td>7510.000000</td>\n",
              "      <td>1.000000</td>\n",
              "      <td>1.000000</td>\n",
              "    </tr>\n",
              "  </tbody>\n",
              "</table>\n",
              "</div>\n",
              "      <button class=\"colab-df-convert\" onclick=\"convertToInteractive('df-1f809033-c148-4c19-bd2e-bedeb47efb9d')\"\n",
              "              title=\"Convert this dataframe to an interactive table.\"\n",
              "              style=\"display:none;\">\n",
              "        \n",
              "  <svg xmlns=\"http://www.w3.org/2000/svg\" height=\"24px\"viewBox=\"0 0 24 24\"\n",
              "       width=\"24px\">\n",
              "    <path d=\"M0 0h24v24H0V0z\" fill=\"none\"/>\n",
              "    <path d=\"M18.56 5.44l.94 2.06.94-2.06 2.06-.94-2.06-.94-.94-2.06-.94 2.06-2.06.94zm-11 1L8.5 8.5l.94-2.06 2.06-.94-2.06-.94L8.5 2.5l-.94 2.06-2.06.94zm10 10l.94 2.06.94-2.06 2.06-.94-2.06-.94-.94-2.06-.94 2.06-2.06.94z\"/><path d=\"M17.41 7.96l-1.37-1.37c-.4-.4-.92-.59-1.43-.59-.52 0-1.04.2-1.43.59L10.3 9.45l-7.72 7.72c-.78.78-.78 2.05 0 2.83L4 21.41c.39.39.9.59 1.41.59.51 0 1.02-.2 1.41-.59l7.78-7.78 2.81-2.81c.8-.78.8-2.07 0-2.86zM5.41 20L4 18.59l7.72-7.72 1.47 1.35L5.41 20z\"/>\n",
              "  </svg>\n",
              "      </button>\n",
              "      \n",
              "  <style>\n",
              "    .colab-df-container {\n",
              "      display:flex;\n",
              "      flex-wrap:wrap;\n",
              "      gap: 12px;\n",
              "    }\n",
              "\n",
              "    .colab-df-convert {\n",
              "      background-color: #E8F0FE;\n",
              "      border: none;\n",
              "      border-radius: 50%;\n",
              "      cursor: pointer;\n",
              "      display: none;\n",
              "      fill: #1967D2;\n",
              "      height: 32px;\n",
              "      padding: 0 0 0 0;\n",
              "      width: 32px;\n",
              "    }\n",
              "\n",
              "    .colab-df-convert:hover {\n",
              "      background-color: #E2EBFA;\n",
              "      box-shadow: 0px 1px 2px rgba(60, 64, 67, 0.3), 0px 1px 3px 1px rgba(60, 64, 67, 0.15);\n",
              "      fill: #174EA6;\n",
              "    }\n",
              "\n",
              "    [theme=dark] .colab-df-convert {\n",
              "      background-color: #3B4455;\n",
              "      fill: #D2E3FC;\n",
              "    }\n",
              "\n",
              "    [theme=dark] .colab-df-convert:hover {\n",
              "      background-color: #434B5C;\n",
              "      box-shadow: 0px 1px 3px 1px rgba(0, 0, 0, 0.15);\n",
              "      filter: drop-shadow(0px 1px 2px rgba(0, 0, 0, 0.3));\n",
              "      fill: #FFFFFF;\n",
              "    }\n",
              "  </style>\n",
              "\n",
              "      <script>\n",
              "        const buttonEl =\n",
              "          document.querySelector('#df-1f809033-c148-4c19-bd2e-bedeb47efb9d button.colab-df-convert');\n",
              "        buttonEl.style.display =\n",
              "          google.colab.kernel.accessAllowed ? 'block' : 'none';\n",
              "\n",
              "        async function convertToInteractive(key) {\n",
              "          const element = document.querySelector('#df-1f809033-c148-4c19-bd2e-bedeb47efb9d');\n",
              "          const dataTable =\n",
              "            await google.colab.kernel.invokeFunction('convertToInteractive',\n",
              "                                                     [key], {});\n",
              "          if (!dataTable) return;\n",
              "\n",
              "          const docLinkHtml = 'Like what you see? Visit the ' +\n",
              "            '<a target=\"_blank\" href=https://colab.research.google.com/notebooks/data_table.ipynb>data table notebook</a>'\n",
              "            + ' to learn more about interactive tables.';\n",
              "          element.innerHTML = '';\n",
              "          dataTable['output_type'] = 'display_data';\n",
              "          await google.colab.output.renderOutput(dataTable, element);\n",
              "          const docLink = document.createElement('div');\n",
              "          docLink.innerHTML = docLinkHtml;\n",
              "          element.appendChild(docLink);\n",
              "        }\n",
              "      </script>\n",
              "    </div>\n",
              "  </div>\n",
              "  "
            ]
          },
          "metadata": {},
          "execution_count": 115
        }
      ]
    },
    {
      "cell_type": "code",
      "source": [
        "fig, axes = plt.subplots(nrows=3, ncols=4, figsize=(20, 8))\n",
        "\n",
        "r = 0\n",
        "c = 0\n",
        "\n",
        "for f in df.columns.drop('Credit Default').tolist():\n",
        "  if f in cat_features:\n",
        "    continue\n",
        "\n",
        "  axes[c][r].boxplot(df[f])\n",
        "  axes[c][r].title.set_text(f)\n",
        "\n",
        "  r += 1\n",
        "  if r >= 4:\n",
        "    r = 0\n",
        "    c += 1\n",
        "  \n",
        "plt.show()"
      ],
      "metadata": {
        "colab": {
          "base_uri": "https://localhost:8080/",
          "height": 278
        },
        "id": "KJ9moIEQefV2",
        "outputId": "b6738749-6904-42fb-d366-5cf70a7c4e93"
      },
      "execution_count": 116,
      "outputs": [
        {
          "output_type": "display_data",
          "data": {
            "text/plain": [
              "<Figure size 1440x576 with 12 Axes>"
            ],
            "image/png": "[encoded data removed]"
          },
          "metadata": {
            "needs_background": "light"
          }
        }
      ]
    },
    {
      "cell_type": "code",
      "source": [
        "# Видно выброс для фичи Current Loan Amount:\n",
        "print('Q99%', df['Current Loan Amount'].quantile(0.99))\n",
        "df[df['Current Loan Amount'] >= df['Current Loan Amount'].quantile(0.99)]['Current Loan Amount'].count()\n",
        "\n",
        "# Есть 870 значений типа 99999999\n",
        "# Заменим их на максимум из того, набора, который меньше этого значения\n",
        "\n",
        "critical = df['Current Loan Amount'].quantile(0.99)\n",
        "df.loc[df['Current Loan Amount'] >= critical, 'Current Loan Amount'] = df[df['Current Loan Amount'] < critical]['Current Loan Amount'].max()\n",
        "\n",
        "plt.boxplot(df['Current Loan Amount'])\n",
        "plt.show()"
      ],
      "metadata": {
        "colab": {
          "base_uri": "https://localhost:8080/",
          "height": 282
        },
        "id": "gzhbLMnMhNNM",
        "outputId": "47ddbcf4-2b4c-4301-daaa-f4b9a85c0b1b"
      },
      "execution_count": 131,
      "outputs": [
        {
          "output_type": "stream",
          "name": "stdout",
          "text": [
            "Q99% 788942.0\n"
          ]
        },
        {
          "output_type": "display_data",
          "data": {
            "text/plain": [
              "<Figure size 432x288 with 1 Axes>"
            ],
            "image/png": "[encoded data removed]"
          },
          "metadata": {
            "needs_background": "light"
          }
        }
      ]
    },
    {
      "cell_type": "code",
      "source": [
        "# Также Credit Score имеет группу выбросов\n",
        "print('Q90%', df['Credit Score'].quantile(0.90))\n",
        "df[df['Credit Score'] >= df['Credit Score'].quantile(0.90)]['Credit Score'].count()\n",
        "\n",
        "# Есть 784 значения больше 90 процентили\n",
        "# Заменим их на максимум из того, набора, который меньше этого значения\n",
        "\n",
        "critical = df['Credit Score'].quantile(0.90)\n",
        "df.loc[df['Credit Score'] >= critical, 'Credit Score'] = df[df['Credit Score'] < critical]['Credit Score'].max()\n",
        "\n",
        "plt.boxplot(df['Credit Score'])\n",
        "plt.show()"
      ],
      "metadata": {
        "colab": {
          "base_uri": "https://localhost:8080/",
          "height": 282
        },
        "id": "TtYXttfUkhCB",
        "outputId": "de524abc-eb42-4254-8a6e-a031e592cb57"
      },
      "execution_count": 132,
      "outputs": [
        {
          "output_type": "stream",
          "name": "stdout",
          "text": [
            "Q90% 747.0\n"
          ]
        },
        {
          "output_type": "display_data",
          "data": {
            "text/plain": [
              "<Figure size 432x288 with 1 Axes>"
            ],
            "image/png": "[encoded data removed]"
          },
          "metadata": {
            "needs_background": "light"
          }
        }
      ]
    },
    {
      "cell_type": "markdown",
      "source": [
        "### Категориальные признаки"
      ],
      "metadata": {
        "id": "ygEiZgsPO6zC"
      }
    },
    {
      "cell_type": "code",
      "source": [
        "# Рассмотрим категориальные признаки\n",
        "df[cat_features].describe()"
      ],
      "metadata": {
        "colab": {
          "base_uri": "https://localhost:8080/",
          "height": 175
        },
        "id": "McM2hJ6NOCFw",
        "outputId": "f67a7a62-f809-4c93-d605-01f2c5435a6c"
      },
      "execution_count": 133,
      "outputs": [
        {
          "output_type": "execute_result",
          "data": {
            "text/plain": [
              "       Home Ownership Years in current job             Purpose        Term\n",
              "count            7500                 7500                7500        7500\n",
              "unique              4                   11                  15           2\n",
              "top     Home Mortgage            10+ years  debt consolidation  Short Term\n",
              "freq             3637                 2703                5944        5556"
            ],
            "text/html": [
              "\n",
              "  <div id=\"df-7242bd3e-cc12-4335-b1e0-9d09e8d9144b\">\n",
              "    <div class=\"colab-df-container\">\n",
              "      <div>\n",
              "<style scoped>\n",
              "    .dataframe tbody tr th:only-of-type {\n",
              "        vertical-align: middle;\n",
              "    }\n",
              "\n",
              "    .dataframe tbody tr th {\n",
              "        vertical-align: top;\n",
              "    }\n",
              "\n",
              "    .dataframe thead th {\n",
              "        text-align: right;\n",
              "    }\n",
              "</style>\n",
              "<table border=\"1\" class=\"dataframe\">\n",
              "  <thead>\n",
              "    <tr style=\"text-align: right;\">\n",
              "      <th></th>\n",
              "      <th>Home Ownership</th>\n",
              "      <th>Years in current job</th>\n",
              "      <th>Purpose</th>\n",
              "      <th>Term</th>\n",
              "    </tr>\n",
              "  </thead>\n",
              "  <tbody>\n",
              "    <tr>\n",
              "      <th>count</th>\n",
              "      <td>7500</td>\n",
              "      <td>7500</td>\n",
              "      <td>7500</td>\n",
              "      <td>7500</td>\n",
              "    </tr>\n",
              "    <tr>\n",
              "      <th>unique</th>\n",
              "      <td>4</td>\n",
              "      <td>11</td>\n",
              "      <td>15</td>\n",
              "      <td>2</td>\n",
              "    </tr>\n",
              "    <tr>\n",
              "      <th>top</th>\n",
              "      <td>Home Mortgage</td>\n",
              "      <td>10+ years</td>\n",
              "      <td>debt consolidation</td>\n",
              "      <td>Short Term</td>\n",
              "    </tr>\n",
              "    <tr>\n",
              "      <th>freq</th>\n",
              "      <td>3637</td>\n",
              "      <td>2703</td>\n",
              "      <td>5944</td>\n",
              "      <td>5556</td>\n",
              "    </tr>\n",
              "  </tbody>\n",
              "</table>\n",
              "</div>\n",
              "      <button class=\"colab-df-convert\" onclick=\"convertToInteractive('df-7242bd3e-cc12-4335-b1e0-9d09e8d9144b')\"\n",
              "              title=\"Convert this dataframe to an interactive table.\"\n",
              "              style=\"display:none;\">\n",
              "        \n",
              "  <svg xmlns=\"http://www.w3.org/2000/svg\" height=\"24px\"viewBox=\"0 0 24 24\"\n",
              "       width=\"24px\">\n",
              "    <path d=\"M0 0h24v24H0V0z\" fill=\"none\"/>\n",
              "    <path d=\"M18.56 5.44l.94 2.06.94-2.06 2.06-.94-2.06-.94-.94-2.06-.94 2.06-2.06.94zm-11 1L8.5 8.5l.94-2.06 2.06-.94-2.06-.94L8.5 2.5l-.94 2.06-2.06.94zm10 10l.94 2.06.94-2.06 2.06-.94-2.06-.94-.94-2.06-.94 2.06-2.06.94z\"/><path d=\"M17.41 7.96l-1.37-1.37c-.4-.4-.92-.59-1.43-.59-.52 0-1.04.2-1.43.59L10.3 9.45l-7.72 7.72c-.78.78-.78 2.05 0 2.83L4 21.41c.39.39.9.59 1.41.59.51 0 1.02-.2 1.41-.59l7.78-7.78 2.81-2.81c.8-.78.8-2.07 0-2.86zM5.41 20L4 18.59l7.72-7.72 1.47 1.35L5.41 20z\"/>\n",
              "  </svg>\n",
              "      </button>\n",
              "      \n",
              "  <style>\n",
              "    .colab-df-container {\n",
              "      display:flex;\n",
              "      flex-wrap:wrap;\n",
              "      gap: 12px;\n",
              "    }\n",
              "\n",
              "    .colab-df-convert {\n",
              "      background-color: #E8F0FE;\n",
              "      border: none;\n",
              "      border-radius: 50%;\n",
              "      cursor: pointer;\n",
              "      display: none;\n",
              "      fill: #1967D2;\n",
              "      height: 32px;\n",
              "      padding: 0 0 0 0;\n",
              "      width: 32px;\n",
              "    }\n",
              "\n",
              "    .colab-df-convert:hover {\n",
              "      background-color: #E2EBFA;\n",
              "      box-shadow: 0px 1px 2px rgba(60, 64, 67, 0.3), 0px 1px 3px 1px rgba(60, 64, 67, 0.15);\n",
              "      fill: #174EA6;\n",
              "    }\n",
              "\n",
              "    [theme=dark] .colab-df-convert {\n",
              "      background-color: #3B4455;\n",
              "      fill: #D2E3FC;\n",
              "    }\n",
              "\n",
              "    [theme=dark] .colab-df-convert:hover {\n",
              "      background-color: #434B5C;\n",
              "      box-shadow: 0px 1px 3px 1px rgba(0, 0, 0, 0.15);\n",
              "      filter: drop-shadow(0px 1px 2px rgba(0, 0, 0, 0.3));\n",
              "      fill: #FFFFFF;\n",
              "    }\n",
              "  </style>\n",
              "\n",
              "      <script>\n",
              "        const buttonEl =\n",
              "          document.querySelector('#df-7242bd3e-cc12-4335-b1e0-9d09e8d9144b button.colab-df-convert');\n",
              "        buttonEl.style.display =\n",
              "          google.colab.kernel.accessAllowed ? 'block' : 'none';\n",
              "\n",
              "        async function convertToInteractive(key) {\n",
              "          const element = document.querySelector('#df-7242bd3e-cc12-4335-b1e0-9d09e8d9144b');\n",
              "          const dataTable =\n",
              "            await google.colab.kernel.invokeFunction('convertToInteractive',\n",
              "                                                     [key], {});\n",
              "          if (!dataTable) return;\n",
              "\n",
              "          const docLinkHtml = 'Like what you see? Visit the ' +\n",
              "            '<a target=\"_blank\" href=https://colab.research.google.com/notebooks/data_table.ipynb>data table notebook</a>'\n",
              "            + ' to learn more about interactive tables.';\n",
              "          element.innerHTML = '';\n",
              "          dataTable['output_type'] = 'display_data';\n",
              "          await google.colab.output.renderOutput(dataTable, element);\n",
              "          const docLink = document.createElement('div');\n",
              "          docLink.innerHTML = docLinkHtml;\n",
              "          element.appendChild(docLink);\n",
              "        }\n",
              "      </script>\n",
              "    </div>\n",
              "  </div>\n",
              "  "
            ]
          },
          "metadata": {},
          "execution_count": 133
        }
      ]
    },
    {
      "cell_type": "code",
      "source": [
        "# Приведем все категориальные признаки к категориальному типу\n",
        "\n",
        "for colname in cat_features:\n",
        "    df[colname] = pd.Categorical(df[colname])\n",
        "\n",
        "df[cat_features].dtypes"
      ],
      "metadata": {
        "colab": {
          "base_uri": "https://localhost:8080/"
        },
        "id": "lTwGodPKOa2c",
        "outputId": "9d953675-55f9-4fe4-eb93-d31ed172e6a4"
      },
      "execution_count": 134,
      "outputs": [
        {
          "output_type": "execute_result",
          "data": {
            "text/plain": [
              "Home Ownership          category\n",
              "Years in current job    category\n",
              "Purpose                 category\n",
              "Term                    category\n",
              "dtype: object"
            ]
          },
          "metadata": {},
          "execution_count": 134
        }
      ]
    },
    {
      "cell_type": "markdown",
      "source": [
        "### Анализ целевой переменной"
      ],
      "metadata": {
        "id": "ZJeAtVTeIp3u"
      }
    },
    {
      "cell_type": "code",
      "source": [
        "# Выделяем целевую переменную и признаки\n",
        "y = df['Credit Default']\n",
        "\n",
        "# Значения таргета\n",
        "y.value_counts()\n",
        "\n",
        "# Видим всего два значения (как и ожидали) с соотношением ~ 2/1"
      ],
      "metadata": {
        "colab": {
          "base_uri": "https://localhost:8080/"
        },
        "id": "0__94gtAIsVZ",
        "outputId": "6375c66f-edd3-49fd-8c7f-5cfebd80b1c6"
      },
      "execution_count": 135,
      "outputs": [
        {
          "output_type": "execute_result",
          "data": {
            "text/plain": [
              "0    5387\n",
              "1    2113\n",
              "Name: Credit Default, dtype: int64"
            ]
          },
          "metadata": {},
          "execution_count": 135
        }
      ]
    },
    {
      "cell_type": "code",
      "source": [
        "# Корреляция с фичами\n",
        "\n",
        "corrs = df.corr().iloc[:-1, -1].sort_values(ascending=False) # таргет - последняя колонка в исходном датафрейме\n",
        "\n",
        "plt.figure(figsize=(12, 6))\n",
        "sns.barplot(x=corrs.values, y=corrs.index)\n",
        "plt.title('Корреляция таргета с фичами')\n",
        "plt.show()\n",
        "\n",
        "# Видно, что часть признаков имеет корреляцию с таргетом"
      ],
      "metadata": {
        "colab": {
          "base_uri": "https://localhost:8080/",
          "height": 301
        },
        "id": "I4-_aM6SI-zZ",
        "outputId": "915fb983-8219-4acc-a5b3-c351c78c8181"
      },
      "execution_count": 136,
      "outputs": [
        {
          "output_type": "display_data",
          "data": {
            "text/plain": [
              "<Figure size 864x432 with 1 Axes>"
            ],
            "image/png": "[encoded data removed]"
          },
          "metadata": {
            "needs_background": "light"
          }
        }
      ]
    },
    {
      "cell_type": "markdown",
      "source": [
        "#### Анализ Current Credit Balance в разрезе целевой переменной"
      ],
      "metadata": {
        "id": "kdk9nMfdMCoh"
      }
    },
    {
      "cell_type": "code",
      "source": [
        "credit_balance = df['Current Credit Balance']\n",
        "\n",
        "for i in [[0, 'r'], [1, 'g']]:\n",
        "  plt.figure(figsize=(18, 2))\n",
        "  plt.hist(credit_balance[df['Credit Default'] == i[0]], label='Credit Default = ' + str(i[0]), color=i[1])\n",
        "  plt.title('Credit Default = ' + str(i[0]))\n",
        "  plt.show()"
      ],
      "metadata": {
        "colab": {
          "base_uri": "https://localhost:8080/",
          "height": 219
        },
        "id": "9nisl9VXlfww",
        "outputId": "64979f51-f585-4405-8e87-a88f6ac042a7"
      },
      "execution_count": 137,
      "outputs": [
        {
          "output_type": "display_data",
          "data": {
            "text/plain": [
              "<Figure size 1296x144 with 1 Axes>"
            ],
            "image/png": "[encoded data removed]"
          },
          "metadata": {
            "needs_background": "light"
          }
        },
        {
          "output_type": "display_data",
          "data": {
            "text/plain": [
              "<Figure size 1296x144 with 1 Axes>"
            ],
            "image/png": "[encoded data removed]"
          },
          "metadata": {
            "needs_background": "light"
          }
        }
      ]
    },
    {
      "cell_type": "markdown",
      "source": [
        "**Наблюдение**\n",
        "\n",
        "Видно, что Current Credit Balance имеет подобные распределения в обеих группах таргета.\n",
        "\n",
        "**Гипотеза** \n",
        "* Нулевая гипотеза: средние значения в двух независимых выборках равны\n",
        "* Альтернативная гипотеза: средние значения в двух независимых выборках различаются\n",
        "* Критерий: критерий Стьюдента либо Манна-Уитни\n",
        "* Уровень значимости $\\normalsize \\alpha$: 0.05\n",
        "* Критическая область: двухсторонняя"
      ],
      "metadata": {
        "id": "xZgCbhEdlyPS"
      }
    },
    {
      "cell_type": "code",
      "source": [
        "# p-value сильно меньше 0.05, что говорит о том, что распределение ненормальное и необходимо использовать критерий Манна-Уитни\n",
        "shapiro(credit_balance.sample(1000))"
      ],
      "metadata": {
        "colab": {
          "base_uri": "https://localhost:8080/"
        },
        "id": "ufvJuVNIl9AE",
        "outputId": "18ede80c-b121-4311-ef70-15056891a484"
      },
      "execution_count": 138,
      "outputs": [
        {
          "output_type": "execute_result",
          "data": {
            "text/plain": [
              "ShapiroResult(statistic=0.67896968126297, pvalue=8.369114948333537e-40)"
            ]
          },
          "metadata": {},
          "execution_count": 138
        }
      ]
    },
    {
      "cell_type": "code",
      "source": [
        "# Проверим гипотезу\n",
        "mw = mannwhitneyu(credit_balance[df['Credit Default'] == 0], credit_balance[df['Credit Default'] == 1])\n",
        "print(mw)\n",
        "\n",
        "# проверим доверительный интервал\n",
        "sns.pointplot(x='Credit Default', y='Credit Score', data=df, capsize=.1)\n",
        "plt.show()\n",
        "\n",
        "# т.к. полученное значение p > 0.05, гипотеза принимается, т.е. средние значения равны\n",
        "# это значит, что значения Current Credit Balance практически не влияют на значения таргета и эту фичу можно удалить"
      ],
      "metadata": {
        "colab": {
          "base_uri": "https://localhost:8080/",
          "height": 296
        },
        "id": "s1yHhQdqmB3z",
        "outputId": "5f8b4d69-3616-43ba-9783-08cb3121a004"
      },
      "execution_count": 140,
      "outputs": [
        {
          "output_type": "stream",
          "name": "stdout",
          "text": [
            "MannwhitneyuResult(statistic=5694774.0, pvalue=0.9677722941935061)\n"
          ]
        },
        {
          "output_type": "display_data",
          "data": {
            "text/plain": [
              "<Figure size 432x288 with 1 Axes>"
            ],
            "image/png": "[encoded data removed]"
          },
          "metadata": {
            "needs_background": "light"
          }
        }
      ]
    },
    {
      "cell_type": "code",
      "source": [
        "# Удалим фичу из датасета\n",
        "df.drop('Current Credit Balance', inplace=True, axis=1)"
      ],
      "metadata": {
        "id": "8art7eANmSgO"
      },
      "execution_count": 141,
      "outputs": []
    },
    {
      "cell_type": "markdown",
      "source": [
        "#### Анализ Credit Score в разрезе целевой переменной"
      ],
      "metadata": {
        "id": "ireeUE-3lcmU"
      }
    },
    {
      "cell_type": "code",
      "source": [
        "credit_score = df['Credit Score']\n",
        "\n",
        "for i in [[0, 'r'], [1, 'g']]:\n",
        "  plt.figure(figsize=(18, 2))\n",
        "  plt.hist(credit_score[df['Credit Default'] == i[0]], label='Credit Default = ' + str(i[0]), color=i[1])\n",
        "  plt.title('Credit Default = ' + str(i[0]))\n",
        "  plt.show()"
      ],
      "metadata": {
        "colab": {
          "base_uri": "https://localhost:8080/",
          "height": 204
        },
        "id": "dfe8nh0fK5K1",
        "outputId": "fbc05bc3-e13e-46b2-920c-94233b2967e5"
      },
      "execution_count": 142,
      "outputs": [
        {
          "output_type": "display_data",
          "data": {
            "text/plain": [
              "<Figure size 1296x144 with 1 Axes>"
            ],
            "image/png": "[encoded data removed]"
          },
          "metadata": {
            "needs_background": "light"
          }
        },
        {
          "output_type": "display_data",
          "data": {
            "text/plain": [
              "<Figure size 1296x144 with 1 Axes>"
            ],
            "image/png": "[encoded data removed]"
          },
          "metadata": {
            "needs_background": "light"
          }
        }
      ]
    },
    {
      "cell_type": "markdown",
      "source": [
        "**Наблюдение**\n",
        "\n",
        "Видно, что Credit Score имеет подобные распределения в обеих группах таргета.\n",
        "\n",
        "**Гипотеза** \n",
        "* Нулевая гипотеза: средние значения в двух независимых выборках равны\n",
        "* Альтернативная гипотеза: средние значения в двух независимых выборках различаются\n",
        "* Критерий: критерий Стьюдента либо Манна-Уитни\n",
        "* Уровень значимости $\\normalsize \\alpha$: 0.05\n",
        "* Критическая область: двухсторонняя"
      ],
      "metadata": {
        "id": "Fa8NsYzPbozR"
      }
    },
    {
      "cell_type": "code",
      "source": [
        "# p-value сильно меньше 0.05, что говорит о том, что распределение ненормальное и необходимо использовать критерий Манна-Уитни\n",
        "shapiro(credit_score.sample(1000))"
      ],
      "metadata": {
        "colab": {
          "base_uri": "https://localhost:8080/"
        },
        "id": "0UqRGVrNMbho",
        "outputId": "e7034e07-fff5-4b38-986b-fc0305825d3d"
      },
      "execution_count": 143,
      "outputs": [
        {
          "output_type": "execute_result",
          "data": {
            "text/plain": [
              "ShapiroResult(statistic=0.7836434245109558, pvalue=2.137019342436148e-34)"
            ]
          },
          "metadata": {},
          "execution_count": 143
        }
      ]
    },
    {
      "cell_type": "code",
      "source": [
        "# Проверим гипотезу\n",
        "mw = mannwhitneyu(credit_score[df['Credit Default'] == 0], credit_score[df['Credit Default'] == 1])\n",
        "print(mw)\n",
        "\n",
        "# проверим доверительный интервал\n",
        "sns.pointplot(x='Credit Default', y='Credit Score', data=df, capsize=.1)\n",
        "plt.show()\n",
        "\n",
        "# т.к. полученное значение p > 0.05, гипотеза принимается, т.е. средние значения равны\n",
        "# это значит, что значения Credit Score практически не влияют на значения таргета и эту фичу можно удалить"
      ],
      "metadata": {
        "colab": {
          "base_uri": "https://localhost:8080/",
          "height": 296
        },
        "id": "O3uCf0BkdH5m",
        "outputId": "b58733d8-a8ee-4a5d-89cf-c0c8f0f9f4a4"
      },
      "execution_count": 144,
      "outputs": [
        {
          "output_type": "stream",
          "name": "stdout",
          "text": [
            "MannwhitneyuResult(statistic=5683465.0, pvalue=0.9248598966067929)\n"
          ]
        },
        {
          "output_type": "display_data",
          "data": {
            "text/plain": [
              "<Figure size 432x288 with 1 Axes>"
            ],
            "image/png": "[encoded data removed]"
          },
          "metadata": {
            "needs_background": "light"
          }
        }
      ]
    },
    {
      "cell_type": "code",
      "source": [
        "# Удалим фичу из датасета\n",
        "df.drop('Credit Score', inplace=True, axis=1)"
      ],
      "metadata": {
        "id": "kBA2k0DwglzD"
      },
      "execution_count": 145,
      "outputs": []
    },
    {
      "cell_type": "markdown",
      "source": [
        "### Матрица корреляций"
      ],
      "metadata": {
        "id": "aRzKVMxzhCgw"
      }
    },
    {
      "cell_type": "code",
      "source": [
        "plt.figure(figsize = (24,8))\n",
        "sns.heatmap(df.corr().round(3), annot=True, linewidths=.5, cmap='GnBu')\n",
        "\n",
        "plt.title('Матрица корреляций')\n",
        "plt.show()"
      ],
      "metadata": {
        "colab": {
          "base_uri": "https://localhost:8080/",
          "height": 302
        },
        "id": "uD9p0T_5hHEz",
        "outputId": "da5604a9-1cbc-43e7-b6fd-8f53447edfb6"
      },
      "execution_count": 146,
      "outputs": [
        {
          "output_type": "display_data",
          "data": {
            "text/plain": [
              "<Figure size 1728x576 with 2 Axes>"
            ],
            "image/png": "[encoded data removed]"
          },
          "metadata": {
            "needs_background": "light"
          }
        }
      ]
    },
    {
      "cell_type": "markdown",
      "source": [
        "Видно, что у нас есть мультиколлинеарность, т.к. признаки Bankrupcies и Number of Credit Problems, Tax Liens и Number of Credit Problems коррелируют. \n",
        "\n",
        "Уберем связынные фичи:"
      ],
      "metadata": {
        "id": "YlxGlHnOb6wr"
      }
    },
    {
      "cell_type": "code",
      "source": [
        "df.drop('Bankruptcies', inplace = True, axis=1)\n",
        "df.drop('Tax Liens', inplace = True, axis=1)"
      ],
      "metadata": {
        "id": "P5gOGWJrcM_H"
      },
      "execution_count": 147,
      "outputs": []
    },
    {
      "cell_type": "markdown",
      "source": [
        "### Скейлинг"
      ],
      "metadata": {
        "id": "44JhG7xiN53c"
      }
    },
    {
      "cell_type": "code",
      "source": [
        "from sklearn.preprocessing import StandardScaler, MinMaxScaler\n",
        "\n",
        "features = df.columns.drop('Credit Default').tolist()\n",
        "\n",
        "scaler = StandardScaler()\n",
        "num_features = [x for x in features if x not in cat_features]\n",
        "df[num_features] = scaler.fit_transform(df[num_features])"
      ],
      "metadata": {
        "id": "HxJU3NmzOCnY"
      },
      "execution_count": 148,
      "outputs": []
    },
    {
      "cell_type": "markdown",
      "source": [
        "### Разделение на тестовую и обучающую выборки"
      ],
      "metadata": {
        "id": "pNiz-V8GPm5p"
      }
    },
    {
      "cell_type": "code",
      "source": [
        "from sklearn.model_selection import train_test_split, ShuffleSplit, cross_val_score, learning_curve\n",
        "\n",
        "X = df[features]\n",
        "y = df['Credit Default']\n",
        "\n",
        "X_train, X_test, y_train, y_test = train_test_split(X, y, shuffle=True, test_size=0.30, random_state=21)"
      ],
      "metadata": {
        "id": "wooq-olSPq_s"
      },
      "execution_count": 149,
      "outputs": []
    },
    {
      "cell_type": "markdown",
      "source": [
        "### Балансировка"
      ],
      "metadata": {
        "id": "ac4mBk7uQPw3"
      }
    },
    {
      "cell_type": "code",
      "source": [
        "# Балансировка требуется, т.к. есть превалирующий класс\n",
        "print(df['Credit Default'].value_counts())\n",
        "\n",
        "def balance_df_by_target(df, target_name):\n",
        "    target_counts = df[target_name].value_counts()\n",
        "    \n",
        "\n",
        "    major_class_name = target_counts.argmax()\n",
        "    minor_class_name = target_counts.argmin()\n",
        "\n",
        "    disbalance_coeff = int(target_counts[major_class_name] / target_counts[minor_class_name]) - 1\n",
        "\n",
        "    for i in range(disbalance_coeff):\n",
        "        sample = df[df[target_name] == minor_class_name].sample(target_counts[minor_class_name])\n",
        "        df = df.append(sample, ignore_index=True)\n",
        "\n",
        "    return df.sample(frac=1) \n",
        "\n",
        "df_for_balancing = pd.concat([X_train, y_train], axis=1)\n",
        "df_balanced = balance_df_by_target(df_for_balancing, 'Credit Default')\n",
        "X_train = df_balanced.drop(columns='Credit Default')\n",
        "y_train = df_balanced['Credit Default']\n",
        "\n",
        "# Сбалансированный набор\n",
        "print(df_balanced['Credit Default'].value_counts())"
      ],
      "metadata": {
        "colab": {
          "base_uri": "https://localhost:8080/"
        },
        "id": "PpvotkOdQQ6s",
        "outputId": "c6cf5cfd-b45c-4e31-d148-dc8bf82a64f7"
      },
      "execution_count": 150,
      "outputs": [
        {
          "output_type": "stream",
          "name": "stdout",
          "text": [
            "0    5387\n",
            "1    2113\n",
            "Name: Credit Default, dtype: int64\n",
            "0    3771\n",
            "1    2958\n",
            "Name: Credit Default, dtype: int64\n"
          ]
        }
      ]
    },
    {
      "cell_type": "markdown",
      "source": [
        "### Построение и выбор модели\n",
        "Я выбрал модель CatBoost после сравнения с остальными по нескольким причинам:\n",
        "\n",
        "* встроенная работа с категориальными признаками\n",
        "* высокая производительность обучения"
      ],
      "metadata": {
        "id": "gPBmUuBRTQgR"
      }
    },
    {
      "cell_type": "code",
      "source": [
        "!pip install catboost\n",
        "\n",
        "import catboost as catb\n",
        "\n",
        "from sklearn.metrics import classification_report, f1_score, precision_score, recall_score\n",
        "from sklearn.neighbors import KNeighborsClassifier\n",
        "from sklearn.model_selection import KFold, GridSearchCV, RandomizedSearchCV\n",
        "\n",
        "def get_classification_report(y_train_true, y_train_pred, y_test_true, y_test_pred):\n",
        "    print('TRAIN\\n\\n' + classification_report(y_train_true, y_train_pred))\n",
        "    print('TEST\\n\\n' + classification_report(y_test_true, y_test_pred))\n",
        "    print('CONFUSION MATRIX\\n')\n",
        "    print(pd.crosstab(y_test_true, y_test_pred))"
      ],
      "metadata": {
        "colab": {
          "base_uri": "https://localhost:8080/"
        },
        "id": "HBqzf1g9UFR7",
        "outputId": "444507f5-851c-40f8-9080-f05db60da0d5"
      },
      "execution_count": 151,
      "outputs": [
        {
          "output_type": "stream",
          "name": "stdout",
          "text": [
            "Looking in indexes: https://pypi.org/simple, https://us-python.pkg.dev/colab-wheels/public/simple/\n",
            "Requirement already satisfied: catboost in /usr/local/lib/python3.8/dist-packages (1.1.1)\n",
            "Requirement already satisfied: matplotlib in /usr/local/lib/python3.8/dist-packages (from catboost) (3.2.2)\n",
            "Requirement already satisfied: scipy in /usr/local/lib/python3.8/dist-packages (from catboost) (1.7.3)\n",
            "Requirement already satisfied: six in /usr/local/lib/python3.8/dist-packages (from catboost) (1.15.0)\n",
            "Requirement already satisfied: numpy>=1.16.0 in /usr/local/lib/python3.8/dist-packages (from catboost) (1.21.6)\n",
            "Requirement already satisfied: plotly in /usr/local/lib/python3.8/dist-packages (from catboost) (5.5.0)\n",
            "Requirement already satisfied: pandas>=0.24.0 in /usr/local/lib/python3.8/dist-packages (from catboost) (1.3.5)\n",
            "Requirement already satisfied: graphviz in /usr/local/lib/python3.8/dist-packages (from catboost) (0.10.1)\n",
            "Requirement already satisfied: python-dateutil>=2.7.3 in /usr/local/lib/python3.8/dist-packages (from pandas>=0.24.0->catboost) (2.8.2)\n",
            "Requirement already satisfied: pytz>=2017.3 in /usr/local/lib/python3.8/dist-packages (from pandas>=0.24.0->catboost) (2022.6)\n",
            "Requirement already satisfied: cycler>=0.10 in /usr/local/lib/python3.8/dist-packages (from matplotlib->catboost) (0.11.0)\n",
            "Requirement already satisfied: pyparsing!=2.0.4,!=2.1.2,!=2.1.6,>=2.0.1 in /usr/local/lib/python3.8/dist-packages (from matplotlib->catboost) (3.0.9)\n",
            "Requirement already satisfied: kiwisolver>=1.0.1 in /usr/local/lib/python3.8/dist-packages (from matplotlib->catboost) (1.4.4)\n",
            "Requirement already satisfied: tenacity>=6.2.0 in /usr/local/lib/python3.8/dist-packages (from plotly->catboost) (8.1.0)\n"
          ]
        }
      ]
    },
    {
      "cell_type": "markdown",
      "source": [
        "#### Подбор параметров модели"
      ],
      "metadata": {
        "id": "edGAOFb7Unw8"
      }
    },
    {
      "cell_type": "code",
      "source": [
        "# Перебираем параметры\n",
        "\n",
        "model_catb = catb.CatBoostClassifier(class_weights=[1, 2], l2_leaf_reg = 10, silent=True, random_state=21,cat_features=cat_features)\n",
        "params = {'n_estimators':[50, 100, 200, 500, 700, 1000, 1200, 1500],\n",
        "          'max_depth':[3, 5, 7]}\n",
        "\n",
        "cv=KFold(n_splits=3, random_state=21, shuffle=True)\n",
        "\n",
        "rs = RandomizedSearchCV(model_catb, params, scoring='f1', cv=cv, n_jobs=-1)\n",
        "rs.fit(X, y)\n",
        "\n",
        "print(rs.best_params_)\n",
        "print(rs.best_score_)"
      ],
      "metadata": {
        "colab": {
          "base_uri": "https://localhost:8080/"
        },
        "id": "5SK8GYk0TRsN",
        "outputId": "ee6fa4dd-37f7-4015-da43-a6d8c3aebc83"
      },
      "execution_count": 152,
      "outputs": [
        {
          "output_type": "stream",
          "name": "stdout",
          "text": [
            "{'n_estimators': 1000, 'max_depth': 3}\n",
            "0.48761160432000406\n"
          ]
        }
      ]
    },
    {
      "cell_type": "code",
      "source": [
        "# Модель с лучшими параметрами\n",
        "\n",
        "final_model = catb.CatBoostClassifier(n_estimators=1000, l2_leaf_reg = 10, class_weights=[1, 2], max_depth=3, silent=True, random_state=21, cat_features=cat_features)\n",
        "final_model.fit(X_train, y_train)\n",
        "\n",
        "y_train_pred = final_model.predict(X_train)\n",
        "y_test_pred = final_model.predict(X_test)\n",
        "y_test_pred_probs = final_model.predict_proba(X_test)\n",
        "\n",
        "get_classification_report(y_train, y_train_pred, y_test, y_test_pred)"
      ],
      "metadata": {
        "colab": {
          "base_uri": "https://localhost:8080/"
        },
        "id": "_nhZ21D_Za4Q",
        "outputId": "be829ae5-7bd4-423e-d8a7-def1f7f74504"
      },
      "execution_count": 153,
      "outputs": [
        {
          "output_type": "stream",
          "name": "stdout",
          "text": [
            "TRAIN\n",
            "\n",
            "              precision    recall  f1-score   support\n",
            "\n",
            "           0       0.90      0.42      0.58      3771\n",
            "           1       0.56      0.94      0.70      2958\n",
            "\n",
            "    accuracy                           0.65      6729\n",
            "   macro avg       0.73      0.68      0.64      6729\n",
            "weighted avg       0.75      0.65      0.63      6729\n",
            "\n",
            "TEST\n",
            "\n",
            "              precision    recall  f1-score   support\n",
            "\n",
            "           0       0.89      0.38      0.54      1616\n",
            "           1       0.36      0.88      0.51       634\n",
            "\n",
            "    accuracy                           0.52      2250\n",
            "   macro avg       0.63      0.63      0.52      2250\n",
            "weighted avg       0.74      0.52      0.53      2250\n",
            "\n",
            "CONFUSION MATRIX\n",
            "\n",
            "col_0             0    1\n",
            "Credit Default          \n",
            "0               621  995\n",
            "1                75  559\n"
          ]
        }
      ]
    },
    {
      "cell_type": "markdown",
      "source": [
        "#### Подбор размера выборки"
      ],
      "metadata": {
        "id": "GGrStQlfYrMm"
      }
    },
    {
      "cell_type": "code",
      "source": [
        "def show_learning_curve_plot(estimator, X, y, cv=3, n_jobs=-1, train_sizes=np.linspace(.1, 1.0, 5)):\n",
        "\n",
        "    train_sizes, train_scores, test_scores = learning_curve(estimator, X, y, \n",
        "                                                            cv=cv, \n",
        "                                                            scoring='f1',\n",
        "                                                            train_sizes=train_sizes, \n",
        "                                                            n_jobs=n_jobs)\n",
        "    train_scores_mean = np.mean(train_scores, axis=1)\n",
        "    train_scores_std = np.std(train_scores, axis=1)\n",
        "    test_scores_mean = np.mean(test_scores, axis=1)\n",
        "    test_scores_std = np.std(test_scores, axis=1)\n",
        "\n",
        "    plt.figure(figsize=(15,8))\n",
        "    plt.fill_between(train_sizes, train_scores_mean - train_scores_std,\n",
        "                     train_scores_mean + train_scores_std, alpha=0.1, color=\"r\")\n",
        "    plt.fill_between(train_sizes, test_scores_mean - test_scores_std,\n",
        "                     test_scores_mean + test_scores_std, alpha=0.1, color=\"g\")\n",
        "    plt.plot(train_sizes, train_scores_mean, 'o-', color=\"r\",\n",
        "             label=\"Training score\")\n",
        "    plt.plot(train_sizes, test_scores_mean, 'o-', color=\"g\",\n",
        "             label=\"Cross-validation score\")\n",
        "\n",
        "    plt.title(f\"Learning curves ({type(estimator).__name__})\")\n",
        "    plt.xlabel(\"Training examples\")\n",
        "    plt.ylabel(\"Score\")     \n",
        "    plt.legend(loc=\"best\")\n",
        "    plt.grid()\n",
        "    plt.show()\n",
        "    \n",
        "show_learning_curve_plot(final_model, X, y)"
      ],
      "metadata": {
        "colab": {
          "base_uri": "https://localhost:8080/",
          "height": 368
        },
        "id": "deiLziH-Yyr3",
        "outputId": "884bab50-7cad-40c8-dddd-afa69f1dd548"
      },
      "execution_count": 154,
      "outputs": [
        {
          "output_type": "display_data",
          "data": {
            "text/plain": [
              "<Figure size 1080x576 with 1 Axes>"
            ],
            "image/png": "[encoded data removed]"
          },
          "metadata": {
            "needs_background": "light"
          }
        }
      ]
    },
    {
      "cell_type": "markdown",
      "source": [
        "#### Подбор порога вероятности"
      ],
      "metadata": {
        "id": "P004jFEpZcQ5"
      }
    },
    {
      "cell_type": "code",
      "source": [
        "def show_proba_calibration_plots(y_predicted_probs, y_true_labels):\n",
        "    preds_with_true_labels = np.array(list(zip(y_predicted_probs, y_true_labels)))\n",
        "\n",
        "    thresholds = []\n",
        "    precisions = []\n",
        "    recalls = []\n",
        "    f1_scores = []\n",
        "\n",
        "    for threshold in np.linspace(0.1, 0.9, 9):\n",
        "        thresholds.append(threshold)\n",
        "        precisions.append(precision_score(y_true_labels, list(map(int, y_predicted_probs > threshold))))\n",
        "        recalls.append(recall_score(y_true_labels, list(map(int, y_predicted_probs > threshold))))\n",
        "        f1_scores.append(f1_score(y_true_labels, list(map(int, y_predicted_probs > threshold))))\n",
        "\n",
        "    scores_table = pd.DataFrame({'f1':f1_scores,\n",
        "                                 'precision':precisions,\n",
        "                                 'recall':recalls,\n",
        "                                 'probability':thresholds}).sort_values('f1', ascending=False).round(3)\n",
        "  \n",
        "    figure = plt.figure(figsize = (15, 5))\n",
        "\n",
        "    plt1 = figure.add_subplot(121)\n",
        "    plt1.plot(thresholds, precisions, label='Precision', linewidth=4)\n",
        "    plt1.plot(thresholds, recalls, label='Recall', linewidth=4)\n",
        "    plt1.plot(thresholds, f1_scores, label='F1', linewidth=4)\n",
        "    plt1.set_ylabel('Scores')\n",
        "    plt1.set_xlabel('Probability threshold')\n",
        "    plt1.set_title('Probabilities threshold calibration')\n",
        "    plt1.legend(bbox_to_anchor=(0.25, 0.25))   \n",
        "    plt1.table(cellText = scores_table.values,\n",
        "               colLabels = scores_table.columns, \n",
        "               colLoc = 'center', cellLoc = 'center', loc = 'bottom', bbox = [0, -1.3, 1, 1])\n",
        "\n",
        "    plt2 = figure.add_subplot(122)\n",
        "    plt2.hist(preds_with_true_labels[preds_with_true_labels[:, 1] == 0][:, 0], \n",
        "              label='Another class', color='royalblue', alpha=1)\n",
        "    plt2.hist(preds_with_true_labels[preds_with_true_labels[:, 1] == 1][:, 0], \n",
        "              label='Main class', color='darkcyan', alpha=0.8)\n",
        "    plt2.set_ylabel('Number of examples')\n",
        "    plt2.set_xlabel('Probabilities')\n",
        "    plt2.set_title('Probability histogram')\n",
        "    plt2.legend(bbox_to_anchor=(1, 1))\n",
        "\n",
        "    plt.show()\n",
        "\n",
        "show_proba_calibration_plots(y_test_pred_probs[:, 1], y_test)"
      ],
      "metadata": {
        "colab": {
          "base_uri": "https://localhost:8080/",
          "height": 480
        },
        "id": "3cGCD29uZfN8",
        "outputId": "20fb0187-85ce-47a7-d74a-e68280fa2cc8"
      },
      "execution_count": 155,
      "outputs": [
        {
          "output_type": "display_data",
          "data": {
            "text/plain": [
              "<Figure size 1080x360 with 2 Axes>"
            ],
            "image/png": "[encoded data removed]"
          },
          "metadata": {
            "needs_background": "light"
          }
        }
      ]
    },
    {
      "cell_type": "markdown",
      "source": [
        "#### Важность признаков"
      ],
      "metadata": {
        "id": "-vyhDIgPbgwE"
      }
    },
    {
      "cell_type": "code",
      "source": [
        "def show_feature_importances(feature_names, feature_importances, get_top=None):\n",
        "    feature_importances = pd.DataFrame({'feature': feature_names, 'importance': feature_importances})\n",
        "    feature_importances = feature_importances.sort_values('importance', ascending=False)\n",
        "       \n",
        "    plt.figure(figsize = (20, len(feature_importances) * 0.355))\n",
        "    \n",
        "    sns.barplot(feature_importances['importance'], feature_importances['feature'])\n",
        "    \n",
        "    plt.xlabel('Importance')\n",
        "    plt.title('Importance of features')\n",
        "    plt.show()\n",
        "    \n",
        "    if get_top is not None:\n",
        "        return feature_importances['feature'][:get_top].tolist()\n",
        "\n",
        "show_feature_importances(X_train.columns, final_model.feature_importances_)"
      ],
      "metadata": {
        "colab": {
          "base_uri": "https://localhost:8080/",
          "height": 214
        },
        "id": "-BcRM_7fbjJN",
        "outputId": "2ad9b63d-0717-4fde-d131-6d51d367b953"
      },
      "execution_count": 156,
      "outputs": [
        {
          "output_type": "stream",
          "name": "stderr",
          "text": [
            "/usr/local/lib/python3.8/dist-packages/seaborn/_decorators.py:36: FutureWarning: Pass the following variables as keyword args: x, y. From version 0.12, the only valid positional argument will be `data`, and passing other arguments without an explicit keyword will result in an error or misinterpretation.\n",
            "  warnings.warn(\n"
          ]
        },
        {
          "output_type": "display_data",
          "data": {
            "text/plain": [
              "<Figure size 1440x306.72 with 1 Axes>"
            ],
            "image/png": "[encoded data removed]"
          },
          "metadata": {
            "needs_background": "light"
          }
        }
      ]
    },
    {
      "cell_type": "markdown",
      "source": [
        "# Прогноз на тестовой выборке"
      ],
      "metadata": {
        "id": "S9ymKnuSdLlT"
      }
    },
    {
      "cell_type": "code",
      "source": [
        "# Загрузка тестовых данных\n",
        "df = pd.read_csv('https://raw.githubusercontent.com/everstudent/python-ai-course-project/main/course_project_test.csv')\n",
        "\n",
        "# Заполняем пропуски и создаем новые признаки\n",
        "df['Deliquent happened'] = df['Months since last delinquent'].isna().astype('int')\n",
        "df.drop('Months since last delinquent', inplace = True, axis=1)\n",
        "for f in ['Credit Score', 'Annual Income']:\n",
        "  df.loc[df[f].isna(), f] = df[f].median()\n",
        "for f in ['Bankruptcies', 'Years in current job']:\n",
        "  df.loc[df[f].isna(), f] = df[f].mode()[0]\n",
        "\n",
        "# Обрабатываем выбросы\n",
        "critical = df['Current Loan Amount'].quantile(0.99)\n",
        "df.loc[df['Current Loan Amount'] >= critical, 'Current Loan Amount'] = df[df['Current Loan Amount'] < critical]['Current Loan Amount'].max()\n",
        "\n",
        "# Удаляем лишние признаки\n",
        "df.drop('Current Credit Balance', inplace=True, axis=1)\n",
        "df.drop('Credit Score', inplace=True, axis=1)\n",
        "df.drop('Bankruptcies', inplace = True, axis=1)\n",
        "df.drop('Tax Liens', inplace = True, axis=1)\n",
        "\n",
        "# Приводим тип категориальных фич\n",
        "for colname in cat_features:\n",
        "    df[colname] = pd.Categorical(df[colname])\n",
        "\n",
        "# Скейлим\n",
        "num_features = [x for x in features if x not in cat_features]\n",
        "df[num_features] = scaler.fit_transform(df[num_features])\n",
        "\n",
        "X = df[features]\n",
        "y_pred = final_model.predict(X)\n",
        "\n",
        "preds = pd.DataFrame(y_pred)\n",
        "preds.columns = ['Credit Default'];\n",
        "preds.to_csv('DGolotiuk_predictions.csv');"
      ],
      "metadata": {
        "id": "WYE_TYfOdPTT"
      },
      "execution_count": 170,
      "outputs": []
    }
  ]
}